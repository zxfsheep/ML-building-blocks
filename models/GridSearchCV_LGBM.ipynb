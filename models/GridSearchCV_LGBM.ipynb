{
 "cells": [
  {
   "cell_type": "markdown",
   "metadata": {},
   "source": [
    "This is using Scikit-learn's GridSearchCV on LightGBM.\n",
    "\n",
    "This is only meant to be an early rough experiment. See the caveats in README. Using a larger learning rate or a small dataset for better speed performance."
   ]
  },
  {
   "cell_type": "code",
   "execution_count": 2,
   "metadata": {},
   "outputs": [],
   "source": [
    "from tqdm import tnrange, tqdm, tqdm_notebook\n",
    "import numpy as np\n",
    "import pandas as pd\n",
    "import matplotlib.pyplot as plt\n",
    "import seaborn as sns\n",
    "plt.ion()\n",
    "import xgboost as xgb\n",
    "import warnings; warnings.simplefilter('ignore')\n",
    "import inspect\n",
    "from sklearn.metrics import roc_auc_score, make_scorer\n",
    "roc = make_scorer(roc_auc_score)\n",
    "from sklearn.model_selection import StratifiedKFold, KFold\n",
    "import gc\n",
    "from sklearn.model_selection import GridSearchCV\n",
    "from sklearn.base import BaseEstimator, ClassifierMixin"
   ]
  },
  {
   "cell_type": "code",
   "execution_count": null,
   "metadata": {},
   "outputs": [],
   "source": [
    "class MyEstimator(BaseEstimator, ClassifierMixin):\n",
    "    def __init__(self, n_estimators = 100, learning_rate = 0.1, max_depth=8, min_child_weight=45, reg_alpha=0.1, reg_lambda=0.1, random_state=2018, subsample =1, colsample_bytree = 1, num_leaves =44, min_split_gain =0.1\n",
    "#              , eval_metric ='auc'\n",
    "                ):\n",
    "\n",
    "        args, _, _, values = inspect.getargvalues(inspect.currentframe())\n",
    "        values.pop(\"self\")\n",
    "        for arg, val in values.items():\n",
    "            setattr(self, arg, val)   \n",
    "        self.fitted_ = False\n",
    "    \n",
    "    def fit(self, X, y=None, sample_weight=None, eval_x = None, eval_y = None):\n",
    "            self.params = {'n_estimators' : self.n_estimators, 'max_depth': self.max_depth, 'learning_rate': self.learning_rate, 'min_child_weight':self.min_child_weight, 'reg_alpha':self.reg_alpha, 'reg_lambda' : self.reg_lambda, 'random_state' : self.random_state, 'subsample': self.subsample, 'colsample_bytree': self.colsample_bytree, 'num_leaves':self.num_leaves, 'min_split_gain' : self.min_split_gain\n",
    "#           ,'eval_metric':self.eval_metric\n",
    "            }\n",
    "        self.clf = LGBMClassifier(**self.params)\n",
    "        clf.fit(X, y, sample_weight,\n",
    "#               eval_set = [(eval_x, eval_y)], eval_metric = 'auc', verbose = verbose, early_stopping_rounds = 200)\n",
    "                )\n",
    "        self.fitted_ = True\n",
    "        return self\n",
    "\n",
    "    def predict(self, X, y=None):   \n",
    "        if not self.fitted_:\n",
    "            raise RuntimeError(\"You must train classifer before predicting data!\")\n",
    "        pred = self.clf.predict_proba(X)[:, 1]\n",
    "        return pred "
   ]
  },
  {
   "cell_type": "code",
   "execution_count": null,
   "metadata": {},
   "outputs": [],
   "source": [
    "train = pd.read_csv('train.csv', index_col = 0)\n",
    "cols = list(train.columns)\n",
    "cols.remove('TARGET')\n",
    "tar = 'TARGET'"
   ]
  },
  {
   "cell_type": "code",
   "execution_count": null,
   "metadata": {},
   "outputs": [],
   "source": [
    "skf = StratifiedKFold(n_splits=5, random_state=1, shuffle=True)\n",
    "\n",
    "gsparam = {'n_estimators' : [150], 'learning_rate' : [0.1], 'random_state' :[2018], 'num_leaves' : [44],'max_depth' :[8], 'min_child_weight' : [45],  'reg_alpha':[0.01], 'reg_lambda':[0.01], 'subsample':[1], 'colsample_bytree':[1], 'min_split_gain' : [0.1]}\n",
    "           \n",
    "wrapper = MyEstimator()\n",
    "gs = GridSearchCV(estimator = wrapper, param_grid = gsparam, scoring = roc, cv = skf, return_train_score = False, verbose = 2, refit= False)\n",
    "gs.fit(train[cols], train[tar])\n",
    "pd.DataFrame(gs.cv_results_).to_csv('gridcv.csv')"
   ]
  }
 ],
 "metadata": {
  "kernelspec": {
   "display_name": "Python [conda env:GPU]",
   "language": "python",
   "name": "conda-env-GPU-py"
  },
  "language_info": {
   "codemirror_mode": {
    "name": "ipython",
    "version": 3
   },
   "file_extension": ".py",
   "mimetype": "text/x-python",
   "name": "python",
   "nbconvert_exporter": "python",
   "pygments_lexer": "ipython3",
   "version": "3.6.6"
  },
  "varInspector": {
   "cols": {
    "lenName": 16,
    "lenType": 16,
    "lenVar": 40
   },
   "kernels_config": {
    "python": {
     "delete_cmd_postfix": "",
     "delete_cmd_prefix": "del ",
     "library": "var_list.py",
     "varRefreshCmd": "print(var_dic_list())"
    },
    "r": {
     "delete_cmd_postfix": ") ",
     "delete_cmd_prefix": "rm(",
     "library": "var_list.r",
     "varRefreshCmd": "cat(var_dic_list()) "
    }
   },
   "types_to_exclude": [
    "module",
    "function",
    "builtin_function_or_method",
    "instance",
    "_Feature"
   ],
   "window_display": false
  }
 },
 "nbformat": 4,
 "nbformat_minor": 2
}
