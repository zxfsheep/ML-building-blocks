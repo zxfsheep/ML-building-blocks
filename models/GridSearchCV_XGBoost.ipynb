{
 "cells": [
  {
   "cell_type": "markdown",
   "metadata": {},
   "source": [
    "This is using Scikit-learn's GridSearchCV on XGBoost.\n",
    "\n",
    "This is only meant to be an early rough experiment. See the caveats in README. Using a larger learning rate or a small dataset for better speed performance."
   ]
  },
  {
   "cell_type": "code",
   "execution_count": 2,
   "metadata": {},
   "outputs": [],
   "source": [
    "import numpy as np\n",
    "import pandas as pd\n",
    "import xgboost as xgb\n",
    "import warnings; warnings.simplefilter('ignore')\n",
    "import inspect\n",
    "from sklearn.metrics import roc_auc_score, make_scorer\n",
    "roc = make_scorer(roc_auc_score)\n",
    "from sklearn.model_selection import StratifiedKFold, KFold\n",
    "import gc\n",
    "from sklearn.model_selection import GridSearchCV\n",
    "from sklearn.base import BaseEstimator, ClassifierMixin"
   ]
  },
  {
   "cell_type": "code",
   "execution_count": null,
   "metadata": {},
   "outputs": [],
   "source": [
    "class MyEstimator(BaseEstimator, ClassifierMixin):\n",
    "    def __init__(self, n_estimators = 100, learning_rate = 0.1, max_depth=3, objective='gpu:binary:logistic', gamma=0, min_child_weight=1, reg_alpha=0, reg_lambda=1            , random_state=2018, tree_method = 'gpu_hist', max_bin = 32, subsample =1, colsample_bytree = 1\n",
    " #              , eval_metric ='auc'\n",
    "                ):\n",
    "        args, _, _, values = inspect.getargvalues(inspect.currentframe())\n",
    "        values.pop(\"self\")\n",
    "        for arg, val in values.items():\n",
    "            setattr(self, arg, val)   \n",
    "        self.fitted_ = False\n",
    "    \n",
    "    def fit(self, X, y=None, sample_weight=None, evalset = None):\n",
    "        self.booster_params = {'max_depth': self.max_depth, 'learning_rate': self.learning_rate, \n",
    "                               'objective': self.objective, 'gamma':self.gamma, \n",
    "                               'min_child_weight':self.min_child_weight, 'reg_alpha':self.reg_alpha,\n",
    "                                'reg_lambda' : self.reg_lambda, 'seed' : self.random_state, \n",
    "                              'tree_method' : self.tree_method, 'max_bin': self.max_bin,\n",
    "                              'subsample': self.subsample, 'colsample_bytree': self.colsample_bytree\n",
    "                            #  ,'eval_metric':self.eval_metric\n",
    "                              }\n",
    "        xgtrain = xgb.DMatrix(data = X, label=y, weight = sample_weight)\n",
    "        self.bst = xgb.train(params = self.booster_params, dtrain = xgtrain, \n",
    "                             num_boost_round = self.n_estimators\n",
    "                  #  ,early_stopping_rounds = 50, evals = [(evalset, 'try')], maximize = True,verbose_eval = 50\n",
    "                            )\n",
    "        gc.enable()\n",
    "        del xgtrain\n",
    "        gc.collect()\n",
    "        self.fitted_ = True\n",
    "        return self\n",
    "\n",
    "    def predict(self, X, y=None):   \n",
    "        if not self.fitted_:\n",
    "            raise RuntimeError(\"You must train classifer before predicting data!\")\n",
    "        xgtest = xgb.DMatrix(data = X)\n",
    "        pred = self.bst.predict(xgtest)\n",
    "        gc.enable()\n",
    "        del xgtest\n",
    "        gc.collect()\n",
    "        return pred "
   ]
  },
  {
   "cell_type": "code",
   "execution_count": null,
   "metadata": {},
   "outputs": [],
   "source": [
    "train = pd.read_csv('train.csv', index_col = 0)\n",
    "cols = list(train.columns)\n",
    "cols.remove('TARGET')\n",
    "tar = 'TARGET'"
   ]
  },
  {
   "cell_type": "code",
   "execution_count": null,
   "metadata": {},
   "outputs": [],
   "source": [
    "skf = StratifiedKFold(n_splits=5, random_state=1, shuffle=True)\n",
    "\n",
    "gsparam = {'n_estimators' : [150], 'learning_rate' : [0.1], 'random_state' :[2018], 'max_depth' :[8], 'gamma' :[0.1], 'min_child_weight' : [45],  'reg_alpha':[0], 'reg_lambda':[3], 'max_bin':[32], 'subsample':[1], 'colsample_bytree':[1]}\n",
    "           \n",
    "wrapper = MyEstimator()\n",
    "gs = GridSearchCV(estimator = wrapper, param_grid = gsparam, scoring = roc, cv = skf, return_train_score = False, verbose = 2, refit= False)\n",
    "gs.fit(train[cols], train[tar])\n",
    "pd.DataFrame(gs.cv_results_).to_csv('gridcv.csv')"
   ]
  }
 ],
 "metadata": {
  "kernelspec": {
   "display_name": "Python [conda env:GPU]",
   "language": "python",
   "name": "conda-env-GPU-py"
  },
  "language_info": {
   "codemirror_mode": {
    "name": "ipython",
    "version": 3
   },
   "file_extension": ".py",
   "mimetype": "text/x-python",
   "name": "python",
   "nbconvert_exporter": "python",
   "pygments_lexer": "ipython3",
   "version": "3.6.6"
  },
  "varInspector": {
   "cols": {
    "lenName": 16,
    "lenType": 16,
    "lenVar": 40
   },
   "kernels_config": {
    "python": {
     "delete_cmd_postfix": "",
     "delete_cmd_prefix": "del ",
     "library": "var_list.py",
     "varRefreshCmd": "print(var_dic_list())"
    },
    "r": {
     "delete_cmd_postfix": ") ",
     "delete_cmd_prefix": "rm(",
     "library": "var_list.r",
     "varRefreshCmd": "cat(var_dic_list()) "
    }
   },
   "types_to_exclude": [
    "module",
    "function",
    "builtin_function_or_method",
    "instance",
    "_Feature"
   ],
   "window_display": false
  }
 },
 "nbformat": 4,
 "nbformat_minor": 2
}
